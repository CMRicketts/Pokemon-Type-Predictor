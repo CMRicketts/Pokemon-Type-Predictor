{
 "cells": [
  {
   "cell_type": "code",
   "execution_count": 1,
   "metadata": {},
   "outputs": [
    {
     "name": "stderr",
     "output_type": "stream",
     "text": [
      "Using TensorFlow backend.\n"
     ]
    }
   ],
   "source": [
    "import json\n",
    "import numpy as np\n",
    "from string import ascii_lowercase\n",
    "\n",
    "from keras.layers import SimpleRNN, Dense, Dropout, TimeDistributed\n",
    "from keras.models import Sequential\n",
    "\n",
    "pokedex = json.load(open('json_pokedex'))"
   ]
  },
  {
   "cell_type": "code",
   "execution_count": 2,
   "metadata": {},
   "outputs": [],
   "source": [
    "name_list = []\n",
    "type_list = []\n",
    "\n",
    "for mon in pokedex:\n",
    "    \n",
    "    if mon.startswith('pokestar'):\n",
    "        continue\n",
    "    if mon == 'zygarde10':\n",
    "        continue\n",
    "    \n",
    "    types = pokedex[mon]['types']\n",
    "    type_list.append(types)\n",
    "    \n",
    "    if mon == 'porygon2':\n",
    "        mon = 'porygontwo'\n",
    "    name_list.append(mon)\n",
    "    \n",
    "N = len(name_list)\n"
   ]
  },
  {
   "cell_type": "code",
   "execution_count": 4,
   "metadata": {},
   "outputs": [],
   "source": [
    "\n",
    "# one hot on the names\n",
    "\n",
    "maxsize = max([len(name) for name in name_list])+1\n",
    "alph = ' '+ascii_lowercase\n",
    "\n",
    "def splatify(word, alph=ascii_lowercase):\n",
    "    word = list(word.strip().ljust(maxsize))\n",
    "    t = np.zeros((len(word), 26))\n",
    "    \n",
    "    for i,char in enumerate(word):\n",
    "        if char not in alph:\n",
    "            pass\n",
    "        else:\n",
    "            t[i][alph.index(char)] = 1\n",
    "    \n",
    "    return t\n",
    "\n",
    "\n",
    "X = np.zeros((N, maxsize, 26))\n",
    "for i,name in enumerate(name_list):\n",
    "    X[i] = splatify(name)"
   ]
  },
  {
   "cell_type": "code",
   "execution_count": 5,
   "metadata": {},
   "outputs": [],
   "source": [
    "# one hot for ys\n",
    "\n",
    "types = set()\n",
    "for t in type_list:\n",
    "    types |= set(t)\n",
    "types = tuple(types)\n",
    "\n",
    "y = np.zeros((N, len(types)))\n",
    "for i,t in enumerate(type_list):\n",
    "    for s in t:\n",
    "        y[i][types.index(s)] = 1"
   ]
  },
  {
   "cell_type": "code",
   "execution_count": 6,
   "metadata": {},
   "outputs": [
    {
     "name": "stdout",
     "output_type": "stream",
     "text": [
      "(1043, 20, 26) (1043, 19)\n"
     ]
    }
   ],
   "source": [
    "# get the ys into proper format??\n",
    "# (1043, 19)    ->     (1043, 20, 19)\n",
    "\n",
    "new_y = np.zeros((N, maxsize, len(types)))\n",
    "\n",
    "for i,t in enumerate(y):\n",
    "    for j in range(maxsize):\n",
    "        new_y[i][j] = y[i]\n",
    "        \n",
    "        \n",
    "print(X.shape, y.shape)"
   ]
  },
  {
   "cell_type": "code",
   "execution_count": 7,
   "metadata": {},
   "outputs": [
    {
     "name": "stdout",
     "output_type": "stream",
     "text": [
      "WARNING:tensorflow:From /Library/Frameworks/Python.framework/Versions/3.7/lib/python3.7/site-packages/tensorflow/python/framework/op_def_library.py:263: colocate_with (from tensorflow.python.framework.ops) is deprecated and will be removed in a future version.\n",
      "Instructions for updating:\n",
      "Colocations handled automatically by placer.\n",
      "WARNING:tensorflow:From /Library/Frameworks/Python.framework/Versions/3.7/lib/python3.7/site-packages/keras/backend/tensorflow_backend.py:3445: calling dropout (from tensorflow.python.ops.nn_ops) with keep_prob is deprecated and will be removed in a future version.\n",
      "Instructions for updating:\n",
      "Please use `rate` instead of `keep_prob`. Rate should be set to `rate = 1 - keep_prob`.\n"
     ]
    },
    {
     "name": "stderr",
     "output_type": "stream",
     "text": [
      "/Library/Frameworks/Python.framework/Versions/3.7/lib/python3.7/site-packages/ipykernel_launcher.py:2: UserWarning: The `input_dim` and `input_length` arguments in recurrent layers are deprecated. Use `input_shape` instead.\n",
      "  \n",
      "/Library/Frameworks/Python.framework/Versions/3.7/lib/python3.7/site-packages/ipykernel_launcher.py:2: UserWarning: Update your `SimpleRNN` call to the Keras 2 API: `SimpleRNN(return_sequences=True, input_shape=(None, 26), units=60)`\n",
      "  \n"
     ]
    },
    {
     "name": "stdout",
     "output_type": "stream",
     "text": [
      "_________________________________________________________________\n",
      "Layer (type)                 Output Shape              Param #   \n",
      "=================================================================\n",
      "simple_rnn_1 (SimpleRNN)     (None, None, 60)          5220      \n",
      "_________________________________________________________________\n",
      "dropout_1 (Dropout)          (None, None, 60)          0         \n",
      "_________________________________________________________________\n",
      "dense_1 (Dense)              (None, None, 40)          2440      \n",
      "_________________________________________________________________\n",
      "dropout_2 (Dropout)          (None, None, 40)          0         \n",
      "_________________________________________________________________\n",
      "time_distributed_1 (TimeDist (None, None, 19)          779       \n",
      "=================================================================\n",
      "Total params: 8,439\n",
      "Trainable params: 8,439\n",
      "Non-trainable params: 0\n",
      "_________________________________________________________________\n"
     ]
    },
    {
     "name": "stderr",
     "output_type": "stream",
     "text": [
      "/Library/Frameworks/Python.framework/Versions/3.7/lib/python3.7/site-packages/ipykernel_launcher.py:7: UserWarning: Update your `Dense` call to the Keras 2 API: `Dense(activation=\"softmax\", units=19)`\n",
      "  import sys\n"
     ]
    }
   ],
   "source": [
    "model = Sequential()\n",
    "model.add(SimpleRNN(input_dim=26, output_dim=60, return_sequences=True))\n",
    "model.add(Dropout(.2))\n",
    "model.add(Dense(40, activation='relu'))\n",
    "model.add(Dropout(.2))\n",
    "\n",
    "model.add(TimeDistributed(Dense(output_dim=len(types), activation=\"softmax\")))\n",
    "\n",
    "\n",
    "model.compile(loss='categorical_crossentropy', optimizer='adam')\n",
    "\n",
    "model.summary()"
   ]
  },
  {
   "cell_type": "code",
   "execution_count": null,
   "metadata": {},
   "outputs": [
    {
     "name": "stdout",
     "output_type": "stream",
     "text": [
      "WARNING:tensorflow:From /Library/Frameworks/Python.framework/Versions/3.7/lib/python3.7/site-packages/tensorflow/python/ops/math_ops.py:3066: to_int32 (from tensorflow.python.ops.math_ops) is deprecated and will be removed in a future version.\n",
      "Instructions for updating:\n",
      "Use tf.cast instead.\n",
      "Epoch 1/160\n",
      "1043/1043 [==============================] - 2s 2ms/step - loss: 4.4695\n",
      "Epoch 2/160\n",
      "1043/1043 [==============================] - 2s 2ms/step - loss: 4.4075\n",
      "Epoch 3/160\n",
      "1043/1043 [==============================] - 1s 1ms/step - loss: 4.3784\n",
      "Epoch 4/160\n",
      "1043/1043 [==============================] - 2s 2ms/step - loss: 4.3624\n",
      "Epoch 5/160\n",
      "1043/1043 [==============================] - 1s 1ms/step - loss: 4.3549\n",
      "Epoch 6/160\n",
      "1043/1043 [==============================] - 1s 1ms/step - loss: 4.3296\n",
      "Epoch 7/160\n",
      "1043/1043 [==============================] - 2s 2ms/step - loss: 4.3151\n",
      "Epoch 8/160\n",
      "1043/1043 [==============================] - 2s 2ms/step - loss: 4.3035\n",
      "Epoch 9/160\n",
      "1043/1043 [==============================] - 1s 1ms/step - loss: 4.2930\n",
      "Epoch 10/160\n",
      "1043/1043 [==============================] - 1s 1ms/step - loss: 4.2837\n",
      "Epoch 11/160\n",
      "1043/1043 [==============================] - 1s 1ms/step - loss: 4.2782\n",
      "Epoch 12/160\n",
      "1043/1043 [==============================] - 1s 1ms/step - loss: 4.2639\n",
      "Epoch 13/160\n",
      "1043/1043 [==============================] - 1s 1ms/step - loss: 4.2485\n",
      "Epoch 14/160\n",
      "1043/1043 [==============================] - 1s 1ms/step - loss: 4.2425\n",
      "Epoch 15/160\n",
      "1043/1043 [==============================] - 1s 1ms/step - loss: 4.2315\n",
      "Epoch 16/160\n",
      "1043/1043 [==============================] - 1s 1ms/step - loss: 4.2131\n",
      "Epoch 17/160\n",
      "1043/1043 [==============================] - 1s 1ms/step - loss: 4.1870\n",
      "Epoch 18/160\n",
      "1043/1043 [==============================] - 1s 1ms/step - loss: 4.1832\n",
      "Epoch 19/160\n",
      "1043/1043 [==============================] - 1s 1ms/step - loss: 4.1596\n",
      "Epoch 20/160\n",
      "1043/1043 [==============================] - 1s 1ms/step - loss: 4.1456\n",
      "Epoch 21/160\n",
      "1043/1043 [==============================] - 1s 1ms/step - loss: 4.1357\n",
      "Epoch 22/160\n",
      "1043/1043 [==============================] - 1s 1ms/step - loss: 4.1348\n",
      "Epoch 23/160\n",
      "1043/1043 [==============================] - 1s 1ms/step - loss: 4.1236\n",
      "Epoch 24/160\n",
      "1043/1043 [==============================] - 1s 1ms/step - loss: 4.0969\n",
      "Epoch 25/160\n",
      "1043/1043 [==============================] - 1s 1ms/step - loss: 4.0827\n",
      "Epoch 26/160\n",
      "1043/1043 [==============================] - 1s 1ms/step - loss: 4.0690\n",
      "Epoch 27/160\n",
      "1043/1043 [==============================] - 1s 1ms/step - loss: 4.0379\n",
      "Epoch 28/160\n",
      "1043/1043 [==============================] - 1s 1ms/step - loss: 4.0261\n",
      "Epoch 29/160\n",
      "1043/1043 [==============================] - 1s 1ms/step - loss: 4.0214\n",
      "Epoch 30/160\n",
      "1043/1043 [==============================] - 1s 1ms/step - loss: 3.9871\n",
      "Epoch 31/160\n",
      "1043/1043 [==============================] - 1s 1ms/step - loss: 3.9835\n",
      "Epoch 32/160\n",
      "1043/1043 [==============================] - 1s 1ms/step - loss: 3.9713\n",
      "Epoch 33/160\n",
      "1043/1043 [==============================] - 1s 1ms/step - loss: 3.9487\n",
      "Epoch 34/160\n",
      "1043/1043 [==============================] - 1s 1ms/step - loss: 3.9377\n",
      "Epoch 35/160\n",
      "1043/1043 [==============================] - 1s 1ms/step - loss: 3.8959\n",
      "Epoch 36/160\n",
      "1043/1043 [==============================] - 1s 1ms/step - loss: 3.9081\n",
      "Epoch 37/160\n",
      "1043/1043 [==============================] - 1s 1ms/step - loss: 3.8799\n",
      "Epoch 38/160\n",
      "1043/1043 [==============================] - 1s 1ms/step - loss: 3.8447\n",
      "Epoch 39/160\n",
      "1043/1043 [==============================] - 1s 1ms/step - loss: 3.8397\n",
      "Epoch 40/160\n",
      "1043/1043 [==============================] - 1s 1ms/step - loss: 3.8272\n",
      "Epoch 41/160\n",
      "1043/1043 [==============================] - 1s 1ms/step - loss: 3.8112\n",
      "Epoch 42/160\n",
      "1043/1043 [==============================] - 1s 1ms/step - loss: 3.8009\n",
      "Epoch 43/160\n",
      "1043/1043 [==============================] - 1s 1ms/step - loss: 3.7626\n",
      "Epoch 44/160\n",
      "1043/1043 [==============================] - 2s 2ms/step - loss: 3.7455\n",
      "Epoch 45/160\n",
      "1043/1043 [==============================] - 2s 2ms/step - loss: 3.7264\n",
      "Epoch 46/160\n",
      "1043/1043 [==============================] - 1s 1ms/step - loss: 3.7067\n",
      "Epoch 47/160\n",
      "1043/1043 [==============================] - 2s 1ms/step - loss: 3.6998\n",
      "Epoch 48/160\n",
      "1043/1043 [==============================] - 2s 2ms/step - loss: 3.6701\n",
      "Epoch 49/160\n",
      "1043/1043 [==============================] - 1s 1ms/step - loss: 3.6694\n",
      "Epoch 50/160\n",
      "1043/1043 [==============================] - 2s 1ms/step - loss: 3.6538\n",
      "Epoch 51/160\n",
      "1043/1043 [==============================] - 2s 2ms/step - loss: 3.6394\n",
      "Epoch 52/160\n",
      " 365/1043 [=========>....................] - ETA: 1s - loss: 3.5019"
     ]
    }
   ],
   "source": [
    "model.fit(X, new_y, epochs=160, batch_size=5, verbose=1)"
   ]
  },
  {
   "cell_type": "code",
   "execution_count": 322,
   "metadata": {},
   "outputs": [],
   "source": [
    "import matplotlib\n",
    "import matplotlib.pyplot as plt\n",
    "matplotlib.rcParams['figure.figsize'] = [14, 8]"
   ]
  },
  {
   "cell_type": "code",
   "execution_count": 332,
   "metadata": {},
   "outputs": [
    {
     "data": {
      "image/png": "[encoded data removed]",
      "text/plain": [
       "<Figure size 1008x576 with 1 Axes>"
      ]
     },
     "metadata": {
      "needs_background": "light"
     },
     "output_type": "display_data"
    }
   ],
   "source": [
    "\n",
    "def predict(s):\n",
    "    flat = splatify(s).reshape(1, 20, 26)\n",
    "    vals = model.predict(flat)[0][-1]\n",
    "    \n",
    "    d = tuple(zip(types, vals))\n",
    "    d = sorted(d, key=lambda t: t[1], reverse=True)\n",
    "        \n",
    "    plt.title(f'predicted typing for \"{s}\"')\n",
    "    plt.bar(\n",
    "        [t[0] for t in d],\n",
    "        [t[1] for t in d]\n",
    "    )\n",
    "    plt.yticks([], [])\n",
    "    plt.xticks(rotation=90)\n",
    "    plt.show()\n",
    "\n",
    "predict('dsilverstone')\n"
   ]
  }
 ],
 "metadata": {
  "kernelspec": {
   "display_name": "Python 3",
   "language": "python",
   "name": "python3"
  },
  "language_info": {
   "codemirror_mode": {
    "name": "ipython",
    "version": 3
   },
   "file_extension": ".py",
   "mimetype": "text/x-python",
   "name": "python",
   "nbconvert_exporter": "python",
   "pygments_lexer": "ipython3",
   "version": "3.7.0"
  }
 },
 "nbformat": 4,
 "nbformat_minor": 2
}
